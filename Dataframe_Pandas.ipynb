{
  "nbformat": 4,
  "nbformat_minor": 0,
  "metadata": {
    "colab": {
      "name": "Dataframe.Pandas.ipynb",
      "provenance": [],
      "mount_file_id": "1TRhwu817bd4n1q6tQVZeB8gWKkUiyBR8",
      "authorship_tag": "ABX9TyPnK6SIhcZRdEW+Eh8foAZx",
      "include_colab_link": true
    },
    "kernelspec": {
      "name": "python3",
      "display_name": "Python 3"
    },
    "language_info": {
      "name": "python"
    }
  },
  "cells": [
    {
      "cell_type": "markdown",
      "metadata": {
        "id": "view-in-github",
        "colab_type": "text"
      },
      "source": [
        "<a href=\"https://colab.research.google.com/github/ViniciusCarneiro17/CalcMODII/blob/main/Dataframe_Pandas.ipynb\" target=\"_parent\"><img src=\"https://colab.research.google.com/assets/colab-badge.svg\" alt=\"Open In Colab\"/></a>"
      ]
    },
    {
      "cell_type": "markdown",
      "source": [
        "Desenvolva um programa que deve ler um arquivo csv intitulado “notas_alunos.csv”. O arquivo deve ter a seguinte estrutura:\n",
        "\n",
        "\n",
        "*   aluno: Nome do aluno;\n",
        "*   nota_1: Primeira nota;\n",
        "*   nota_2: Segunda nota;\n",
        "*   faltas: Número de faltas;\n",
        "\n",
        "\n",
        "O programa lerá esse arquivo e criará duas colunas. A primeira coluna será “media”, que terá a média das duas notas do aluno. A segunda será “situacao”, com os valores: APROVADO ou REPROVADO.\n",
        "\n",
        "O aluno que tiver mais de 5 faltas ou possuir média menor que sete, será reprovado. O programa deverá salvar esse novo dataframe com o nome “alunos_situacao.csv”.\n",
        "\n",
        "Por fim, o programa deverá mostrar na tela:\n",
        "- o maior número de faltas;\n",
        "- a média geral das notas dos alunos;\n",
        "- e a maior média.\n",
        "\n",
        "Veja em anexo um exemplo do arquivo “notas_alunos.csv”.\n",
        "\n",
        "Trabalhe esse código em seu IDE, suba ele para sua conta no GitHub e compartilhe o link desse projeto no campo ao lado para que outros desenvolvedores possam analisá-lo."
      ],
      "metadata": {
        "id": "W4t1ToDrkyeR"
      }
    },
    {
      "cell_type": "code",
      "source": [
        "import pandas as pd"
      ],
      "metadata": {
        "id": "9Bsq-gudktr1"
      },
      "execution_count": 18,
      "outputs": []
    },
    {
      "cell_type": "code",
      "source": [
        "df = pd.read_csv('Notas_aluno.csv', encoding = 'latin1')\n",
        "df = pd.read_csv('Notas_aluno.csv', sep =\";\")\n",
        "df.head()"
      ],
      "metadata": {
        "colab": {
          "base_uri": "https://localhost:8080/",
          "height": 206
        },
        "id": "pF_RMYUTwnFq",
        "outputId": "e40472a4-fe0e-47fc-8d0a-d078bc95fe9c"
      },
      "execution_count": 28,
      "outputs": [
        {
          "output_type": "execute_result",
          "data": {
            "text/plain": [
              "   aluno  nota_1  nota_2  faltas\n",
              "0  Fabio       7       9       3\n",
              "1  Pedro       8       7       6\n",
              "2    Ana       9       8       2\n",
              "3  Maria       9       3       0\n",
              "4  Lucas       5       8       0"
            ],
            "text/html": [
              "\n",
              "  <div id=\"df-7dd1fcb3-2a1d-48cd-bffd-c8c6883fe906\">\n",
              "    <div class=\"colab-df-container\">\n",
              "      <div>\n",
              "<style scoped>\n",
              "    .dataframe tbody tr th:only-of-type {\n",
              "        vertical-align: middle;\n",
              "    }\n",
              "\n",
              "    .dataframe tbody tr th {\n",
              "        vertical-align: top;\n",
              "    }\n",
              "\n",
              "    .dataframe thead th {\n",
              "        text-align: right;\n",
              "    }\n",
              "</style>\n",
              "<table border=\"1\" class=\"dataframe\">\n",
              "  <thead>\n",
              "    <tr style=\"text-align: right;\">\n",
              "      <th></th>\n",
              "      <th>aluno</th>\n",
              "      <th>nota_1</th>\n",
              "      <th>nota_2</th>\n",
              "      <th>faltas</th>\n",
              "    </tr>\n",
              "  </thead>\n",
              "  <tbody>\n",
              "    <tr>\n",
              "      <th>0</th>\n",
              "      <td>Fabio</td>\n",
              "      <td>7</td>\n",
              "      <td>9</td>\n",
              "      <td>3</td>\n",
              "    </tr>\n",
              "    <tr>\n",
              "      <th>1</th>\n",
              "      <td>Pedro</td>\n",
              "      <td>8</td>\n",
              "      <td>7</td>\n",
              "      <td>6</td>\n",
              "    </tr>\n",
              "    <tr>\n",
              "      <th>2</th>\n",
              "      <td>Ana</td>\n",
              "      <td>9</td>\n",
              "      <td>8</td>\n",
              "      <td>2</td>\n",
              "    </tr>\n",
              "    <tr>\n",
              "      <th>3</th>\n",
              "      <td>Maria</td>\n",
              "      <td>9</td>\n",
              "      <td>3</td>\n",
              "      <td>0</td>\n",
              "    </tr>\n",
              "    <tr>\n",
              "      <th>4</th>\n",
              "      <td>Lucas</td>\n",
              "      <td>5</td>\n",
              "      <td>8</td>\n",
              "      <td>0</td>\n",
              "    </tr>\n",
              "  </tbody>\n",
              "</table>\n",
              "</div>\n",
              "      <button class=\"colab-df-convert\" onclick=\"convertToInteractive('df-7dd1fcb3-2a1d-48cd-bffd-c8c6883fe906')\"\n",
              "              title=\"Convert this dataframe to an interactive table.\"\n",
              "              style=\"display:none;\">\n",
              "        \n",
              "  <svg xmlns=\"http://www.w3.org/2000/svg\" height=\"24px\"viewBox=\"0 0 24 24\"\n",
              "       width=\"24px\">\n",
              "    <path d=\"M0 0h24v24H0V0z\" fill=\"none\"/>\n",
              "    <path d=\"M18.56 5.44l.94 2.06.94-2.06 2.06-.94-2.06-.94-.94-2.06-.94 2.06-2.06.94zm-11 1L8.5 8.5l.94-2.06 2.06-.94-2.06-.94L8.5 2.5l-.94 2.06-2.06.94zm10 10l.94 2.06.94-2.06 2.06-.94-2.06-.94-.94-2.06-.94 2.06-2.06.94z\"/><path d=\"M17.41 7.96l-1.37-1.37c-.4-.4-.92-.59-1.43-.59-.52 0-1.04.2-1.43.59L10.3 9.45l-7.72 7.72c-.78.78-.78 2.05 0 2.83L4 21.41c.39.39.9.59 1.41.59.51 0 1.02-.2 1.41-.59l7.78-7.78 2.81-2.81c.8-.78.8-2.07 0-2.86zM5.41 20L4 18.59l7.72-7.72 1.47 1.35L5.41 20z\"/>\n",
              "  </svg>\n",
              "      </button>\n",
              "      \n",
              "  <style>\n",
              "    .colab-df-container {\n",
              "      display:flex;\n",
              "      flex-wrap:wrap;\n",
              "      gap: 12px;\n",
              "    }\n",
              "\n",
              "    .colab-df-convert {\n",
              "      background-color: #E8F0FE;\n",
              "      border: none;\n",
              "      border-radius: 50%;\n",
              "      cursor: pointer;\n",
              "      display: none;\n",
              "      fill: #1967D2;\n",
              "      height: 32px;\n",
              "      padding: 0 0 0 0;\n",
              "      width: 32px;\n",
              "    }\n",
              "\n",
              "    .colab-df-convert:hover {\n",
              "      background-color: #E2EBFA;\n",
              "      box-shadow: 0px 1px 2px rgba(60, 64, 67, 0.3), 0px 1px 3px 1px rgba(60, 64, 67, 0.15);\n",
              "      fill: #174EA6;\n",
              "    }\n",
              "\n",
              "    [theme=dark] .colab-df-convert {\n",
              "      background-color: #3B4455;\n",
              "      fill: #D2E3FC;\n",
              "    }\n",
              "\n",
              "    [theme=dark] .colab-df-convert:hover {\n",
              "      background-color: #434B5C;\n",
              "      box-shadow: 0px 1px 3px 1px rgba(0, 0, 0, 0.15);\n",
              "      filter: drop-shadow(0px 1px 2px rgba(0, 0, 0, 0.3));\n",
              "      fill: #FFFFFF;\n",
              "    }\n",
              "  </style>\n",
              "\n",
              "      <script>\n",
              "        const buttonEl =\n",
              "          document.querySelector('#df-7dd1fcb3-2a1d-48cd-bffd-c8c6883fe906 button.colab-df-convert');\n",
              "        buttonEl.style.display =\n",
              "          google.colab.kernel.accessAllowed ? 'block' : 'none';\n",
              "\n",
              "        async function convertToInteractive(key) {\n",
              "          const element = document.querySelector('#df-7dd1fcb3-2a1d-48cd-bffd-c8c6883fe906');\n",
              "          const dataTable =\n",
              "            await google.colab.kernel.invokeFunction('convertToInteractive',\n",
              "                                                     [key], {});\n",
              "          if (!dataTable) return;\n",
              "\n",
              "          const docLinkHtml = 'Like what you see? Visit the ' +\n",
              "            '<a target=\"_blank\" href=https://colab.research.google.com/notebooks/data_table.ipynb>data table notebook</a>'\n",
              "            + ' to learn more about interactive tables.';\n",
              "          element.innerHTML = '';\n",
              "          dataTable['output_type'] = 'display_data';\n",
              "          await google.colab.output.renderOutput(dataTable, element);\n",
              "          const docLink = document.createElement('div');\n",
              "          docLink.innerHTML = docLinkHtml;\n",
              "          element.appendChild(docLink);\n",
              "        }\n",
              "      </script>\n",
              "    </div>\n",
              "  </div>\n",
              "  "
            ]
          },
          "metadata": {},
          "execution_count": 28
        }
      ]
    },
    {
      "cell_type": "markdown",
      "source": [
        "Situação com base na média"
      ],
      "metadata": {
        "id": "ZvsZD1-9L-1I"
      }
    },
    {
      "cell_type": "code",
      "source": [
        "media = (df[\"nota_1\"] + df[\"nota_2\"])/2\n",
        "\n",
        "df[\"media\"] = media\n",
        "df.head()\n",
        "\n",
        "faltas = (df[\"faltas\"])\n",
        "\n",
        "\n",
        "df.loc[df[\"media\"] < 7, \"situação\"] = \"REPROVADO\"\n",
        "df.loc[df[\"media\"] >= 7, \"situação\"]= \"APROVADO\"\n",
        "print (df.head())\n"
      ],
      "metadata": {
        "colab": {
          "base_uri": "https://localhost:8080/"
        },
        "id": "dPZJ2Ivgk87U",
        "outputId": "0e882c9c-849a-47ac-8cc6-0992eee158fa"
      },
      "execution_count": 45,
      "outputs": [
        {
          "output_type": "stream",
          "name": "stdout",
          "text": [
            "   aluno  nota_1  nota_2  faltas  media   situação\n",
            "0  Fabio       7       9       3    8.0   APROVADO\n",
            "1  Pedro       8       7       6    7.5   APROVADO\n",
            "2    Ana       9       8       2    8.5   APROVADO\n",
            "3  Maria       9       3       0    6.0  REPROVADO\n",
            "4  Lucas       5       8       0    6.5  REPROVADO\n"
          ]
        }
      ]
    },
    {
      "cell_type": "markdown",
      "source": [
        "Situação com base na frequência"
      ],
      "metadata": {
        "id": "Y8Hsie9ZMMtN"
      }
    },
    {
      "cell_type": "code",
      "source": [
        "df.loc[df[\"faltas\"] < 5, \"situação\"] = \"APROVADO\"\n",
        "df.loc[df[\"faltas\"] >= 5, \"situação\"] = \"REPROVADO\"\n",
        "print (df.head())\n"
      ],
      "metadata": {
        "colab": {
          "base_uri": "https://localhost:8080/"
        },
        "id": "sBno2TmhFiov",
        "outputId": "92ea343d-1123-451d-a742-531d817cee68"
      },
      "execution_count": 41,
      "outputs": [
        {
          "output_type": "stream",
          "name": "stdout",
          "text": [
            "   aluno  nota_1  nota_2  faltas  media   situação\n",
            "0  Fabio       7       9       3    8.0   APROVADO\n",
            "1  Pedro       8       7       6    7.5  REPROVADO\n",
            "2    Ana       9       8       2    8.5   APROVADO\n",
            "3  Maria       9       3       0    6.0   APROVADO\n",
            "4  Lucas       5       8       0    6.5   APROVADO\n"
          ]
        }
      ]
    },
    {
      "cell_type": "markdown",
      "source": [
        "Novo dataframe com o nome “alunos_situacao.csv”"
      ],
      "metadata": {
        "id": "dv5YC-w2MgYq"
      }
    },
    {
      "cell_type": "code",
      "source": [
        "df.to_csv(\"/content/alunos_situacao.csv\")\n"
      ],
      "metadata": {
        "id": "PJxQqBGKmSKQ"
      },
      "execution_count": 46,
      "outputs": []
    },
    {
      "cell_type": "markdown",
      "source": [
        "Tela final "
      ],
      "metadata": {
        "id": "kPAvWJSjNAJI"
      }
    },
    {
      "cell_type": "code",
      "source": [
        "maisFaltas = df[\"faltas\"].max()\n",
        "mediaGer = df[\"media\"].median()\n",
        "maiorMedia = df[\"media\"].max()\n",
        "print(\"Maior número de faltas: \", maisFaltas)\n",
        "print(\"Média Geral: \", mediaGer)\n",
        "print(\"Maior média: \", maiorMedia)\n"
      ],
      "metadata": {
        "colab": {
          "base_uri": "https://localhost:8080/"
        },
        "id": "vLeJ455dNBep",
        "outputId": "4f681d1b-6c82-4baa-da32-81d1559447d9"
      },
      "execution_count": 49,
      "outputs": [
        {
          "output_type": "stream",
          "name": "stdout",
          "text": [
            "Maior número de faltas:  6\n",
            "Média Geral:  7.5\n",
            "Maior média:  8.5\n"
          ]
        }
      ]
    }
  ]
}