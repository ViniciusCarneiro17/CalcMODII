{
  "nbformat": 4,
  "nbformat_minor": 0,
  "metadata": {
    "colab": {
      "name": "Nome.Idade.MODII.ipynb",
      "provenance": [],
      "authorship_tag": "ABX9TyMVLXmpFJL/CpkwMOqajxCW",
      "include_colab_link": true
    },
    "kernelspec": {
      "name": "python3",
      "display_name": "Python 3"
    },
    "language_info": {
      "name": "python"
    }
  },
  "cells": [
    {
      "cell_type": "markdown",
      "metadata": {
        "id": "view-in-github",
        "colab_type": "text"
      },
      "source": [
        "<a href=\"https://colab.research.google.com/github/ViniciusCarneiro17/CalcMODII/blob/main/Nome_Idade_MODII.ipynb\" target=\"_parent\"><img src=\"https://colab.research.google.com/assets/colab-badge.svg\" alt=\"Open In Colab\"/></a>"
      ]
    },
    {
      "cell_type": "code",
      "execution_count": 11,
      "metadata": {
        "colab": {
          "base_uri": "https://localhost:8080/"
        },
        "id": "a9TdtCwKhjNm",
        "outputId": "7fe29a94-13d8-4dfb-8214-f1dcde665dff"
      },
      "outputs": [
        {
          "output_type": "stream",
          "name": "stdout",
          "text": [
            "Programa Nome e Idade completa ou a completar em 2022\n",
            "\n",
            "Favor, insira o seu nome completo: \n",
            "João da Silva\n",
            "Favor, insira o seu ano de nascimento: \n",
            "1918\n",
            "Erro, dado inválido! \n",
            "Favor, insira o seu ano de nascimento: \n",
            "dois mil e quatro\n",
            "Erro, dado inválido! \n",
            "Favor, insira o seu ano de nascimento: \n",
            "1988\n",
            "Nome do Usuário: João da Silva\n",
            "Idade completa ou a completar em 2022: 34 anos\n"
          ]
        }
      ],
      "source": [
        "print (\"Programa Nome e Idade completa ou a completar em 2022\")\n",
        "print (\"\")\n",
        "rodar = True\n",
        "print (\"Favor, insira o seu nome completo: \")\n",
        "nome = (input())\n",
        "\n",
        "while (rodar):\n",
        "\n",
        "  try:\n",
        "    \n",
        "    print (\"Favor, insira o seu ano de nascimento: \")\n",
        "    ano = int(input())\n",
        "    if ano > 1922 and ano < 2021:\n",
        "      idade = 2022 - ano\n",
        "      rodar = False\n",
        "    else:\n",
        "      print (\"Erro, dado inválido! \")\n",
        "  except:\n",
        "    print (\"Erro, dado inválido! \")\n",
        "print (\"Nome do Usuário:\",nome )\n",
        "print (\"Idade completa ou a completar em 2022:\",idade,\"anos\")\n"
      ]
    }
  ]
}