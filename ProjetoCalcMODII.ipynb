{
  "nbformat": 4,
  "nbformat_minor": 0,
  "metadata": {
    "colab": {
      "name": "ProjetoCalcMODII.ipynb",
      "provenance": [],
      "authorship_tag": "ABX9TyNG9qMbPu6/L+x7YGTG0o09",
      "include_colab_link": true
    },
    "kernelspec": {
      "name": "python3",
      "display_name": "Python 3"
    },
    "language_info": {
      "name": "python"
    }
  },
  "cells": [
    {
      "cell_type": "markdown",
      "metadata": {
        "id": "view-in-github",
        "colab_type": "text"
      },
      "source": [
        "<a href=\"https://colab.research.google.com/github/ViniciusCarneiro17/CalcMODII/blob/main/ProjetoCalcMODII.ipynb\" target=\"_parent\"><img src=\"https://colab.research.google.com/assets/colab-badge.svg\" alt=\"Open In Colab\"/></a>"
      ]
    },
    {
      "cell_type": "code",
      "execution_count": null,
      "metadata": {
        "colab": {
          "base_uri": "https://localhost:8080/"
        },
        "id": "dy-BeWCvENvR",
        "outputId": "12f68440-15cb-475a-98ab-43ba92e46905"
      },
      "outputs": [
        {
          "output_type": "stream",
          "name": "stdout",
          "text": [
            "9\n"
          ]
        }
      ],
      "source": [
        "def calc(num1, num2, oper):\n",
        "  if oper == 1:\n",
        "    soma = num1 + num2 \n",
        "    return soma\n",
        "  elif oper == 2:\n",
        "    sub = num1 - num2\n",
        "    return sub\n",
        "  elif oper == 3:\n",
        "    mult = num1 * num2\n",
        "    return mult\n",
        "  elif oper == 4:\n",
        "    div = num1/num2\n",
        "    return div\n",
        "  else :\n",
        "    result = 0\n",
        "    return result\n",
        " \n",
        "num1 = 6\n",
        "num2 = 3\n",
        "operacao = 1\n",
        "Resultado = calc (num1, num2, operacao)\n",
        "print(Resultado)"
      ]
    }
  ]
}