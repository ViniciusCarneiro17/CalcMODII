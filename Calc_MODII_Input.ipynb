{
  "nbformat": 4,
  "nbformat_minor": 0,
  "metadata": {
    "colab": {
      "name": "Calc.MODII.Input.ipynb",
      "provenance": [],
      "authorship_tag": "ABX9TyM8fGulDANqEyfO/LcyaGOL",
      "include_colab_link": true
    },
    "kernelspec": {
      "name": "python3",
      "display_name": "Python 3"
    },
    "language_info": {
      "name": "python"
    }
  },
  "cells": [
    {
      "cell_type": "markdown",
      "metadata": {
        "id": "view-in-github",
        "colab_type": "text"
      },
      "source": [
        "<a href=\"https://colab.research.google.com/github/ViniciusCarneiro17/CalcMODII/blob/main/Calc_MODII_Input.ipynb\" target=\"_parent\"><img src=\"https://colab.research.google.com/assets/colab-badge.svg\" alt=\"Open In Colab\"/></a>"
      ]
    },
    {
      "cell_type": "code",
      "execution_count": 22,
      "metadata": {
        "id": "-r-bJ1mfU5Mh"
      },
      "outputs": [],
      "source": [
        "def calc(num1,num2,oper):\n",
        "\n",
        "  x = 1\n",
        "  while x > 0:\n",
        "    print(\"1: Soma\")\n",
        "    print(\"2: Subtração\")\n",
        "    print(\"3: Multiplicação\")\n",
        "    print(\"4: Divisão\")\n",
        "    print(\"0: Sair\")\n",
        "\n",
        "    oper = int(input(\"Selecione a operação desejada: \"))\n",
        "    \n",
        "    if oper == 1:\n",
        "      num1 = int(input(\"Insira o primeiro valor: \"))\n",
        "      num2 = int(input(\"Insira o segundo Valor: \"))\n",
        "      soma = num1 + num2\n",
        "      print(\"Resultado: \", soma)\n",
        "      return soma\n",
        "    elif oper == 2:\n",
        "      num1 = int(input(\"Insira o primeiro valor: \"))\n",
        "      num2 = int(input(\"Insira o segundo Valor: \"))\n",
        "      sub = num1 - num2\n",
        "      print(\"Resultado: \", sub)\n",
        "      return sub\n",
        "    elif oper == 3:\n",
        "      num1 = int(input(\"Insira o primeiro valor: \"))\n",
        "      num2 = int(input(\"Insira o segundo Valor: \"))\n",
        "      mult = num1 * num2\n",
        "      print (\"Resultado\",mult)\n",
        "      return mult\n",
        "    elif oper == 4:\n",
        "      num1 = int(input(\"Insira o primeiro valor: \"))\n",
        "      num2 = int(input(\"Insira o segundo Valor: \"))\n",
        "      div = num1 / num2\n",
        "      print(\"Resultado\",div)\n",
        "      return div\n",
        "    elif oper == 0:\n",
        "      sair = (\" \")\n",
        "      print (sair)\n",
        "      break\n",
        "      return sair\n",
        "    else:\n",
        "      inv = (\"Essa opção não existe\") \n",
        "      print(inv)\n",
        "      continue\n",
        "      return inv\n",
        "\n",
        "  x = x + 1\n",
        "\n",
        "Resultado = calc(num1,num2,oper)\n"
      ]
    }
  ]
}